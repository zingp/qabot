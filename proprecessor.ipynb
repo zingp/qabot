{
 "cells": [
  {
   "cell_type": "code",
   "execution_count": 1,
   "metadata": {},
   "outputs": [],
   "source": [
    "import pandas as pd"
   ]
  },
  {
   "cell_type": "code",
   "execution_count": 2,
   "metadata": {},
   "outputs": [],
   "source": [
    "src_file = \"./data/nonghang/nonghangzhidao_filter.csv\"\n",
    "train_file = \"./data/nonghang/train.csv\"\n",
    "dev_file = \"./data/nonghang/dev.csv\"\n",
    "test_file = \"./data/nonghang/test.csv\""
   ]
  },
  {
   "cell_type": "code",
   "execution_count": 3,
   "metadata": {},
   "outputs": [],
   "source": [
    "data = pd.read_csv(src_file)"
   ]
  },
  {
   "cell_type": "code",
   "execution_count": 4,
   "metadata": {},
   "outputs": [
    {
     "data": {
      "text/plain": [
       "title       39844\n",
       "question    11996\n",
       "reply       39802\n",
       "is_best     39844\n",
       "dtype: int64"
      ]
     },
     "execution_count": 4,
     "metadata": {},
     "output_type": "execute_result"
    }
   ],
   "source": [
    "data.count()"
   ]
  },
  {
   "cell_type": "code",
   "execution_count": 5,
   "metadata": {},
   "outputs": [
    {
     "data": {
      "text/html": [
       "<div>\n",
       "<style scoped>\n",
       "    .dataframe tbody tr th:only-of-type {\n",
       "        vertical-align: middle;\n",
       "    }\n",
       "\n",
       "    .dataframe tbody tr th {\n",
       "        vertical-align: top;\n",
       "    }\n",
       "\n",
       "    .dataframe thead th {\n",
       "        text-align: right;\n",
       "    }\n",
       "</style>\n",
       "<table border=\"1\" class=\"dataframe\">\n",
       "  <thead>\n",
       "    <tr style=\"text-align: right;\">\n",
       "      <th></th>\n",
       "      <th>title</th>\n",
       "      <th>question</th>\n",
       "      <th>reply</th>\n",
       "      <th>is_best</th>\n",
       "    </tr>\n",
       "  </thead>\n",
       "  <tbody>\n",
       "    <tr>\n",
       "      <th>0</th>\n",
       "      <td>需资金周转最好是私人能帮私聊</td>\n",
       "      <td>NaN</td>\n",
       "      <td>建议客户选择正规渠道申请贷款，例如农行“网捷贷”。网捷贷是指农业银行向符合特定条件的农业银行...</td>\n",
       "      <td>0</td>\n",
       "    </tr>\n",
       "    <tr>\n",
       "      <th>1</th>\n",
       "      <td>需资金周转最好是私人能帮私聊</td>\n",
       "      <td>NaN</td>\n",
       "      <td>哦哦</td>\n",
       "      <td>0</td>\n",
       "    </tr>\n",
       "    <tr>\n",
       "      <th>2</th>\n",
       "      <td>需资金周转最好是私人能帮私聊</td>\n",
       "      <td>NaN</td>\n",
       "      <td>我可以帮你</td>\n",
       "      <td>0</td>\n",
       "    </tr>\n",
       "    <tr>\n",
       "      <th>3</th>\n",
       "      <td>补回来的银行卡有交易记录吗？</td>\n",
       "      <td>NaN</td>\n",
       "      <td>若是办理的农行借记卡的挂失补卡或换卡业务，原卡的交易会转到新卡上。金*借记卡挂失补卡时，必须...</td>\n",
       "      <td>0</td>\n",
       "    </tr>\n",
       "    <tr>\n",
       "      <th>4</th>\n",
       "      <td>补回来的银行卡有交易记录吗？</td>\n",
       "      <td>NaN</td>\n",
       "      <td>有的，补办，以前卡的交易记录转到新卡。</td>\n",
       "      <td>0</td>\n",
       "    </tr>\n",
       "  </tbody>\n",
       "</table>\n",
       "</div>"
      ],
      "text/plain": [
       "            title question                                              reply  \\\n",
       "0  需资金周转最好是私人能帮私聊      NaN  建议客户选择正规渠道申请贷款，例如农行“网捷贷”。网捷贷是指农业银行向符合特定条件的农业银行...   \n",
       "1  需资金周转最好是私人能帮私聊      NaN                                                 哦哦   \n",
       "2  需资金周转最好是私人能帮私聊      NaN                                              我可以帮你   \n",
       "3  补回来的银行卡有交易记录吗？      NaN  若是办理的农行借记卡的挂失补卡或换卡业务，原卡的交易会转到新卡上。金*借记卡挂失补卡时，必须...   \n",
       "4  补回来的银行卡有交易记录吗？      NaN                                有的，补办，以前卡的交易记录转到新卡。   \n",
       "\n",
       "   is_best  \n",
       "0        0  \n",
       "1        0  \n",
       "2        0  \n",
       "3        0  \n",
       "4        0  "
      ]
     },
     "execution_count": 5,
     "metadata": {},
     "output_type": "execute_result"
    }
   ],
   "source": [
    "data.head(5)"
   ]
  },
  {
   "cell_type": "code",
   "execution_count": 6,
   "metadata": {},
   "outputs": [],
   "source": [
    "def split_df(filename, train_file, dev_file, test_file, train_rate=0.8, test_rate=0.1):\n",
    "    df = pd.read_csv(filename)\n",
    "    train = data.sample(frac=train_rate)\n",
    "    train = train.reset_index(drop=True)\n",
    "    \n",
    "    dev = data.sample(frac=1-train_rate)\n",
    "    dev = dev.reset_index(drop=True)\n",
    "    \n",
    "    test = data.sample(frac=test_rate)\n",
    "    test = test.reset_index(drop=True)\n",
    "    train.to_csv(train_file)\n",
    "    dev.to_csv(dev_file)\n",
    "    test.to_csv(test_file)\n",
    "    print(\"ok\")"
   ]
  },
  {
   "cell_type": "code",
   "execution_count": 7,
   "metadata": {},
   "outputs": [
    {
     "name": "stdout",
     "output_type": "stream",
     "text": [
      "ok\n"
     ]
    }
   ],
   "source": [
    "if __name__ == \"__main__\":\n",
    "    split_df(src_file, train_file, dev_file, test_file)"
   ]
  },
  {
   "cell_type": "code",
   "execution_count": null,
   "metadata": {},
   "outputs": [],
   "source": []
  }
 ],
 "metadata": {
  "kernelspec": {
   "display_name": "Python 3",
   "language": "python",
   "name": "python3"
  },
  "language_info": {
   "codemirror_mode": {
    "name": "ipython",
    "version": 3
   },
   "file_extension": ".py",
   "mimetype": "text/x-python",
   "name": "python",
   "nbconvert_exporter": "python",
   "pygments_lexer": "ipython3",
   "version": "3.6.8"
  }
 },
 "nbformat": 4,
 "nbformat_minor": 2
}
